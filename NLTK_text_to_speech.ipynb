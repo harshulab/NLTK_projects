{
 "cells": [
  {
   "cell_type": "code",
   "execution_count": 1,
   "id": "07c8f480",
   "metadata": {},
   "outputs": [],
   "source": [
    "# importing libraries\n",
    "import nltk\n",
    "from nltk import corpus\n"
   ]
  },
  {
   "cell_type": "code",
   "execution_count": 16,
   "id": "bfdda515",
   "metadata": {},
   "outputs": [
    {
     "data": {
      "text/plain": [
       "['Samay',\n",
       " 'Raina',\n",
       " 'is',\n",
       " 'the',\n",
       " 'greatest',\n",
       " 'chess',\n",
       " 'streamer',\n",
       " 'on',\n",
       " 'YouTube']"
      ]
     },
     "execution_count": 16,
     "metadata": {},
     "output_type": "execute_result"
    }
   ],
   "source": [
    "#tokenising the input sentences to words\n",
    "#tokenisation can be done to words, sentences and paragraphs, depending upon the model to be trained\n",
    "\n",
    "from nltk.tokenize import word_tokenize\n",
    "sample = \"Samay Raina is the greatest chess streamer on YouTube\"\n",
    "sample_tokenized = word_tokenize(sample)\n",
    "sample_tokenized"
   ]
  },
  {
   "cell_type": "code",
   "execution_count": 11,
   "id": "fd8c6c62",
   "metadata": {},
   "outputs": [
    {
     "data": {
      "text/plain": [
       "['Samay Raina is the greatest chess streamer.',\n",
       " 'Sagar Shah is the best chess coach.']"
      ]
     },
     "execution_count": 11,
     "metadata": {},
     "output_type": "execute_result"
    }
   ],
   "source": [
    "from nltk.tokenize import sent_tokenize\n",
    "sample2 = \"Samay Raina is the greatest chess streamer. Sagar Shah is the best chess coach.\"\n",
    "sent_tokenize(sample2)"
   ]
  },
  {
   "cell_type": "code",
   "execution_count": 12,
   "id": "8da7ca42",
   "metadata": {},
   "outputs": [
    {
     "data": {
      "text/plain": [
       "[('Samay', 'Raina'),\n",
       " ('Raina', 'is'),\n",
       " ('is', 'the'),\n",
       " ('the', 'greatest'),\n",
       " ('greatest', 'chess'),\n",
       " ('chess', 'streamer'),\n",
       " ('streamer', 'on'),\n",
       " ('on', 'YouTube')]"
      ]
     },
     "execution_count": 12,
     "metadata": {},
     "output_type": "execute_result"
    }
   ],
   "source": [
    "list(nltk.bigrams(sample_tokenized))"
   ]
  },
  {
   "cell_type": "code",
   "execution_count": 13,
   "id": "d5d4872f",
   "metadata": {},
   "outputs": [
    {
     "data": {
      "text/plain": [
       "[('Samay', 'Raina', 'is', 'the', 'greatest'),\n",
       " ('Raina', 'is', 'the', 'greatest', 'chess'),\n",
       " ('is', 'the', 'greatest', 'chess', 'streamer'),\n",
       " ('the', 'greatest', 'chess', 'streamer', 'on'),\n",
       " ('greatest', 'chess', 'streamer', 'on', 'YouTube')]"
      ]
     },
     "execution_count": 13,
     "metadata": {},
     "output_type": "execute_result"
    }
   ],
   "source": [
    "list(nltk.ngrams(word_tokenize(sample), 5))"
   ]
  },
  {
   "cell_type": "code",
   "execution_count": 17,
   "id": "5407dde3",
   "metadata": {},
   "outputs": [
    {
     "data": {
      "text/plain": [
       "'samay raina is the greatest chess streamer on youtub'"
      ]
     },
     "execution_count": 17,
     "metadata": {},
     "output_type": "execute_result"
    }
   ],
   "source": [
    "from nltk.stem import PorterStemmer\n",
    "stemmer = PorterStemmer()\n",
    "stemmer.stem(sample)"
   ]
  },
  {
   "cell_type": "code",
   "execution_count": 19,
   "id": "4b65e248",
   "metadata": {},
   "outputs": [
    {
     "name": "stderr",
     "output_type": "stream",
     "text": [
      "[nltk_data] Downloading package averaged_perceptron_tagger to\n",
      "[nltk_data]     C:\\Users\\Harshita\\AppData\\Roaming\\nltk_data...\n",
      "[nltk_data]   Unzipping taggers\\averaged_perceptron_tagger.zip.\n"
     ]
    },
    {
     "data": {
      "text/plain": [
       "True"
      ]
     },
     "execution_count": 19,
     "metadata": {},
     "output_type": "execute_result"
    }
   ],
   "source": [
    "# nltk.download('averaged_perceptron_tagger')\n",
    "\n",
    "# IN – Preposition\n",
    "# DT – Determiner\n",
    "# NN – Noun\n",
    "# PRP – Personal pronoun\n",
    "# EX – Existential there\n",
    "# MD – Modal\n",
    "# VB – Verb base form\n",
    "# VBN – Verb past participle"
   ]
  },
  {
   "cell_type": "code",
   "execution_count": 23,
   "id": "a90cd654",
   "metadata": {
    "scrolled": true
   },
   "outputs": [
    {
     "data": {
      "text/plain": [
       "[('Samay', 'NNP'),\n",
       " ('Raina', 'NNP'),\n",
       " ('is', 'VBZ'),\n",
       " ('the', 'DT'),\n",
       " ('greatest', 'JJS'),\n",
       " ('chess', 'NN'),\n",
       " ('streamer', 'NN'),\n",
       " ('on', 'IN'),\n",
       " ('YouTube', 'NN')]"
      ]
     },
     "execution_count": 23,
     "metadata": {},
     "output_type": "execute_result"
    }
   ],
   "source": [
    "#we understand the need and effect of tokenized and stemmed data\n",
    "#doing basic part-of-speech analysis\n",
    "\n",
    "sample_pos = nltk.pos_tag(sample_tokenized)\n",
    "sample_pos"
   ]
  },
  {
   "cell_type": "code",
   "execution_count": 25,
   "id": "551c3cc0",
   "metadata": {
    "scrolled": true
   },
   "outputs": [
    {
     "name": "stderr",
     "output_type": "stream",
     "text": [
      "[nltk_data] Downloading package maxent_ne_chunker to\n",
      "[nltk_data]     C:\\Users\\Harshita\\AppData\\Roaming\\nltk_data...\n",
      "[nltk_data]   Unzipping chunkers\\maxent_ne_chunker.zip.\n"
     ]
    },
    {
     "data": {
      "text/plain": [
       "True"
      ]
     },
     "execution_count": 25,
     "metadata": {},
     "output_type": "execute_result"
    }
   ],
   "source": [
    "# nltk.download('maxent_ne_chunker')"
   ]
  },
  {
   "cell_type": "code",
   "execution_count": 28,
   "id": "7c458cfc",
   "metadata": {},
   "outputs": [
    {
     "name": "stderr",
     "output_type": "stream",
     "text": [
      "[nltk_data] Downloading package words to\n",
      "[nltk_data]     C:\\Users\\Harshita\\AppData\\Roaming\\nltk_data...\n",
      "[nltk_data]   Unzipping corpora\\words.zip.\n"
     ]
    },
    {
     "data": {
      "text/plain": [
       "True"
      ]
     },
     "execution_count": 28,
     "metadata": {},
     "output_type": "execute_result"
    }
   ],
   "source": [
    "# nltk.download('words')"
   ]
  },
  {
   "cell_type": "code",
   "execution_count": 29,
   "id": "30f10d8c",
   "metadata": {},
   "outputs": [],
   "source": [
    "#to recognise name entities\n",
    "from nltk import ne_chunk"
   ]
  },
  {
   "cell_type": "code",
   "execution_count": 30,
   "id": "0f8fc121",
   "metadata": {
    "scrolled": true
   },
   "outputs": [
    {
     "name": "stdout",
     "output_type": "stream",
     "text": [
      "(S\n",
      "  (PERSON Samay/NNP)\n",
      "  (ORGANIZATION Raina/NNP)\n",
      "  is/VBZ\n",
      "  the/DT\n",
      "  greatest/JJS\n",
      "  chess/NN\n",
      "  streamer/NN\n",
      "  on/IN\n",
      "  (ORGANIZATION YouTube/NN))\n"
     ]
    }
   ],
   "source": [
    "print(ne_chunk(sample_pos))"
   ]
  },
  {
   "cell_type": "code",
   "execution_count": 32,
   "id": "1ca6b6c7",
   "metadata": {},
   "outputs": [
    {
     "name": "stdout",
     "output_type": "stream",
     "text": [
      "Collecting gTTS\n",
      "  Downloading gTTS-2.2.3-py3-none-any.whl (25 kB)\n",
      "Requirement already satisfied: requests in c:\\users\\harshita\\anaconda3\\lib\\site-packages (from gTTS) (2.25.1)\n",
      "Requirement already satisfied: click in c:\\users\\harshita\\anaconda3\\lib\\site-packages (from gTTS) (7.1.2)\n",
      "Requirement already satisfied: six in c:\\users\\harshita\\anaconda3\\lib\\site-packages (from gTTS) (1.15.0)\n",
      "Requirement already satisfied: urllib3<1.27,>=1.21.1 in c:\\users\\harshita\\anaconda3\\lib\\site-packages (from requests->gTTS) (1.26.4)\n",
      "Requirement already satisfied: chardet<5,>=3.0.2 in c:\\users\\harshita\\anaconda3\\lib\\site-packages (from requests->gTTS) (4.0.0)\n",
      "Requirement already satisfied: idna<3,>=2.5 in c:\\users\\harshita\\anaconda3\\lib\\site-packages (from requests->gTTS) (2.10)\n",
      "Requirement already satisfied: certifi>=2017.4.17 in c:\\users\\harshita\\anaconda3\\lib\\site-packages (from requests->gTTS) (2020.12.5)\n",
      "Installing collected packages: gTTS\n",
      "Successfully installed gTTS-2.2.3\n"
     ]
    }
   ],
   "source": [
    "# !pip install gTTS"
   ]
  },
  {
   "cell_type": "code",
   "execution_count": 33,
   "id": "a2278d1a",
   "metadata": {
    "scrolled": true
   },
   "outputs": [],
   "source": [
    "from gtts import gTTS"
   ]
  },
  {
   "cell_type": "code",
   "execution_count": 48,
   "id": "899b0bbd",
   "metadata": {},
   "outputs": [
    {
     "data": {
      "text/html": [
       "\n",
       "                <audio  controls=\"controls\" autoplay=\"autoplay\">\n",
       "                    <source src=\"data:audio/wav;base64,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\" type=\"audio/wav\" />\n",
       "                    Your browser does not support the audio element.\n",
       "                </audio>\n",
       "              "
      ],
      "text/plain": [
       "<IPython.lib.display.Audio object>"
      ]
     },
     "execution_count": 48,
     "metadata": {},
     "output_type": "execute_result"
    }
   ],
   "source": [
    "from IPython.display import Audio\n",
    "\n",
    "mytext = 'तुम क्यों चले आते हो , हर रोज़ इन ख्वाबों में , चुपके से आ भी जाओ , इक दिन मेरी बाहों में'\n",
    "language = 'hi'\n",
    "tts = gTTS(text = mytext, lang = language, slow = False)\n",
    "tts.save('1.wav')\n",
    "sound_file = '1.wav'\n",
    "Audio(sound_file, autoplay=True)"
   ]
  },
  {
   "cell_type": "code",
   "execution_count": null,
   "id": "7abd4b5f",
   "metadata": {},
   "outputs": [],
   "source": []
  }
 ],
 "metadata": {
  "kernelspec": {
   "display_name": "Python 3",
   "language": "python",
   "name": "python3"
  },
  "language_info": {
   "codemirror_mode": {
    "name": "ipython",
    "version": 3
   },
   "file_extension": ".py",
   "mimetype": "text/x-python",
   "name": "python",
   "nbconvert_exporter": "python",
   "pygments_lexer": "ipython3",
   "version": "3.8.8"
  }
 },
 "nbformat": 4,
 "nbformat_minor": 5
}
